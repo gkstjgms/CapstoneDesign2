{
 "cells": [
  {
   "cell_type": "code",
   "execution_count": 4,
   "id": "09c3e37f",
   "metadata": {},
   "outputs": [
    {
     "name": "stdout",
     "output_type": "stream",
     "text": [
      "년도: 2019\n",
      "월: 10\n"
     ]
    },
    {
     "data": {
      "text/plain": [
       "<function TextIOWrapper.close()>"
      ]
     },
     "execution_count": 4,
     "metadata": {},
     "output_type": "execute_result"
    }
   ],
   "source": [
    "import warnings\n",
    "warnings.simplefilter((\"ignore\"))\n",
    "import csv\n",
    "import pandas as pd\n",
    "from pandas import DataFrame\n",
    "\n",
    "# 승하차 승객 데이터 추출\n",
    "# 출근 시간 8~9시, 퇴근 시간 17~18시/18~19시/19~20시/20~21시\n",
    "\n",
    "# 파일 열기\n",
    "file_year = input(\"년도: \")\n",
    "file_name = input(\"월: \")\n",
    "file = \"C:/Users/user/Desktop/CD2/Project/CapstoneDesign2/subway \" + file_year + \"/\" + file_year + file_name + \".csv\"\n",
    "f_data = open(file, 'r')\n",
    "data_reader = csv.reader(f_data)\n",
    "\n",
    "stock_data = []\n",
    "\n",
    "for row in data_reader:\n",
    "    stock_data.append(row)\n",
    "\n",
    "for i in range(len(stock_data)):\n",
    "    del stock_data[i][0] # 날짜 삭제\n",
    "    \n",
    "# 필요 없는 시간대 삭제\n",
    "\n",
    "time = 2\n",
    "for j in range(2, 8):\n",
    "    for i in range(len(stock_data)):\n",
    "        del stock_data[i][time]\n",
    "        \n",
    "for j in range(6, 22):\n",
    "    for i in range(len(stock_data)):\n",
    "        del stock_data[i][time + 4]\n",
    "        \n",
    "for j in range(14, len(stock_data[0])):\n",
    "    for i in range(len(stock_data)):\n",
    "        del stock_data[i][time + 12]\n",
    "\n",
    "data_df = DataFrame(stock_data)\n",
    "data_df.to_csv(\"C:/Users/user/Desktop/CD2/Project/CapstoneDesign2/subway \" + file_year + \"/\" \n",
    "               + file_year + file_name + ' data fixed.csv', header = False, index = False)\n",
    "\n",
    "f_data.close"
   ]
  },
  {
   "cell_type": "markdown",
   "id": "5dc4b892",
   "metadata": {},
   "source": [
    "## subway 파일에 시간별 승하차 인원 추가"
   ]
  },
  {
   "cell_type": "code",
   "execution_count": 5,
   "id": "51f985c0",
   "metadata": {},
   "outputs": [
    {
     "data": {
      "text/plain": [
       "<function TextIOWrapper.close()>"
      ]
     },
     "execution_count": 5,
     "metadata": {},
     "output_type": "execute_result"
    }
   ],
   "source": [
    "# 지하철 파일 열기\n",
    "subway_file = \"C:/Users/user/Desktop/CD2/Project/CapstoneDesign2/subway.csv\"\n",
    "f_subway = open(subway_file, 'r')\n",
    "subway_reader = csv.reader(f_subway)\n",
    "\n",
    "stock_subway = []\n",
    "\n",
    "for row in subway_reader:\n",
    "    stock_subway.append(row)\n",
    "    \n",
    "# 행 목록 이름 지정\n",
    "stock_subway[0].append('7_in')\n",
    "stock_subway[0].append('7_out')\n",
    "stock_subway[0].append('8_in')\n",
    "stock_subway[0].append('8_out')\n",
    "stock_subway[0].append('17_in')\n",
    "stock_subway[0].append('17_out')\n",
    "stock_subway[0].append('18_in')\n",
    "stock_subway[0].append('18_out')\n",
    "stock_subway[0].append('19_in')\n",
    "stock_subway[0].append('19_out')\n",
    "stock_subway[0].append('20_in')\n",
    "stock_subway[0].append('20_out')\n",
    "\n",
    "# 해당 역의 승하차 인원수 기록\n",
    "for i in range(len(stock_subway)):\n",
    "    for j in range(len(stock_data)):\n",
    "        if stock_subway[i][1] == stock_data[j][1]:\n",
    "            if (len(stock_subway[i]) > 3):\n",
    "                for h in range(3, len(stock_subway[i])):\n",
    "                    stock_subway[i][h] += int(stock_data[j][h - 1])\n",
    "            else:\n",
    "                for k in range(2, len(stock_data[j])):\n",
    "                    stock_subway[i].append(int(stock_data[j][k]))\n",
    "            \n",
    "# 빈칸 초기화\n",
    "for i in range(len(stock_subway)):\n",
    "    if (len(stock_subway[i]) == 3):\n",
    "        for j in range(12):\n",
    "            stock_subway[i].append(0)\n",
    "                    \n",
    "data_df = DataFrame(stock_subway)\n",
    "data_df.to_csv(\"C:/Users/user/Desktop/CD2/Project/CapstoneDesign2/subway \" + file_year + \"/\" \n",
    "               + file_year + file_name + ' subway data.csv', header = False, index = False)\n",
    "\n",
    "f_subway.close"
   ]
  },
  {
   "cell_type": "markdown",
   "id": "fdfa1d28",
   "metadata": {},
   "source": [
    "## subway 파일에 승차 - 하차 인원 추가"
   ]
  },
  {
   "cell_type": "code",
   "execution_count": 6,
   "id": "f16888c3",
   "metadata": {},
   "outputs": [
    {
     "name": "stdout",
     "output_type": "stream",
     "text": [
      "년도: 2019\n",
      "월: 10\n"
     ]
    },
    {
     "data": {
      "text/plain": [
       "<function TextIOWrapper.close()>"
      ]
     },
     "execution_count": 6,
     "metadata": {},
     "output_type": "execute_result"
    }
   ],
   "source": [
    "# 수정된 지하철 파일 열기\n",
    "file_year = input(\"년도: \")\n",
    "file_name = input(\"월: \")\n",
    "subwaydata_file = \"C:/Users/user/Desktop/CD2/Project/CapstoneDesign2/subway \" + file_year + \"/\" + file_year + file_name + \" subway data.csv\"\n",
    "f_subwaydata = open(subwaydata_file, 'rt', encoding='UTF8')\n",
    "subwaydata_reader = csv.reader(f_subwaydata)\n",
    "\n",
    "stock_subwaydata = []\n",
    "\n",
    "for row in subwaydata_reader:\n",
    "    stock_subwaydata.append(row)\n",
    "\n",
    "subway_file = \"C:/Users/user/Desktop/CD2/Project/CapstoneDesign2/subway.csv\"\n",
    "f_subway = open(subway_file, 'r')\n",
    "subway_reader = csv.reader(f_subway)\n",
    "\n",
    "stock_subway = []\n",
    "\n",
    "for row in subway_reader:\n",
    "    stock_subway.append(row)\n",
    "    \n",
    "# 행 목록 이름 지정\n",
    "stock_subway[0].append('7')\n",
    "stock_subway[0].append('8')\n",
    "stock_subway[0].append('17')\n",
    "stock_subway[0].append('18')\n",
    "stock_subway[0].append('19')\n",
    "stock_subway[0].append('20')\n",
    "\n",
    "# 해당 역의 승차 - 하차\n",
    "sum = 0\n",
    "for i in range(1, len(stock_subway)):\n",
    "    for j in range(3, len(stock_subwaydata[j]), 2):\n",
    "        sum = int(stock_subwaydata[i][j]) - int(stock_subwaydata[i][j + 1])\n",
    "        stock_subway[i].append(sum)\n",
    "                    \n",
    "data_df = DataFrame(stock_subway)\n",
    "data_df.to_csv(\"C:/Users/user/Desktop/CD2/Project/CapstoneDesign2/subway \" + file_year + \"/\" \n",
    "               + file_year + file_name + ' subway data(minus).csv', header = False, index = False)\n",
    "\n",
    "f_subwaydata.close\n",
    "f_subway.close"
   ]
  },
  {
   "cell_type": "markdown",
   "id": "d1dacfcf",
   "metadata": {},
   "source": [
    "---"
   ]
  },
  {
   "cell_type": "markdown",
   "id": "fea1528c",
   "metadata": {},
   "source": [
    "### 사용 X"
   ]
  },
  {
   "cell_type": "code",
   "execution_count": null,
   "id": "3e3f4446",
   "metadata": {},
   "outputs": [],
   "source": [
    "# 지하철 파일 열기\n",
    "subway_file = \"C:/Users/user/Desktop/CD2/Project/CapstoneDesign2/subway.csv\"\n",
    "f_subway = open(subway_file, 'r')\n",
    "subway_reader = csv.reader(f_subway)\n",
    "\n",
    "stock_subway_am = []\n",
    "\n",
    "for row in subway_reader:\n",
    "    stock_subway_am.append(row)\n",
    "    \n",
    "# 행 목록 이름 지정\n",
    "# am\n",
    "stock_subway_am[0].append('7_in')\n",
    "stock_subway_am[0].append('7_out')\n",
    "stock_subway_am[0].append('8_in')\n",
    "stock_subway_am[0].append('8_out')\n",
    "\n",
    "# 해당 역의 승하차 인원수 기록\n",
    "# am\n",
    "for i in range(len(stock_subway_am)):\n",
    "    for j in range(len(stock_data)):\n",
    "        if stock_subway_am[i][1] == stock_data[j][1]:\n",
    "            if (len(stock_subway_am[i]) > 3):\n",
    "                for h in range(3, len(stock_subway_am[i])):\n",
    "                    stock_subway_am[i][h] += int(stock_data[j][h - 1])\n",
    "            else:\n",
    "                for k in range(2, 6):\n",
    "                    stock_subway_am[i].append(int(stock_data[j][k]))\n",
    "                    \n",
    "data_df = DataFrame(stock_subway_am)\n",
    "data_df.to_csv(file_year + file_name + ' subway data(am).csv', header = False, index = False)\n",
    "\n",
    "f_subway.close"
   ]
  },
  {
   "cell_type": "code",
   "execution_count": null,
   "id": "1d09f89c",
   "metadata": {},
   "outputs": [],
   "source": [
    "# 지하철 파일 열기\n",
    "subway_file = \"C:/Users/user/Desktop/CD2/Project/CapstoneDesign2/subway.csv\"\n",
    "f_subway = open(subway_file, 'r')\n",
    "subway_reader = csv.reader(f_subway)\n",
    "\n",
    "stock_subway_pm = []\n",
    "\n",
    "for row in subway_reader:\n",
    "    stock_subway_pm.append(row)\n",
    "    \n",
    "# 행 목록 이름 지정\n",
    "# pm\n",
    "stock_subway_pm[0].append('17_in')\n",
    "stock_subway_pm[0].append('17_out')\n",
    "stock_subway_pm[0].append('18_in')\n",
    "stock_subway_pm[0].append('18_out')\n",
    "stock_subway_pm[0].append('19_in')\n",
    "stock_subway_pm[0].append('19_out')\n",
    "stock_subway_pm[0].append('20_in')\n",
    "stock_subway_pm[0].append('20_out')\n",
    "\n",
    "# 해당 역의 승하차 인원수 기록\n",
    "# pm\n",
    "for i in range(len(stock_subway_pm)):\n",
    "    for j in range(len(stock_data)):\n",
    "        if stock_subway_pm[i][1] == stock_data[j][1]:\n",
    "            if (len(stock_subway_pm[i]) > 3):\n",
    "                for h in range(6, len(stock_data[j])):\n",
    "                    stock_subway_pm[i][h - 3] += int(stock_data[j][h])\n",
    "            else:\n",
    "                for k in range(6, len(stock_data[j])):\n",
    "                    stock_subway_pm[i].append(int(stock_data[j][k]))\n",
    "\n",
    "data_df = DataFrame(stock_subway_pm)\n",
    "data_df.to_csv(file_year + file_name + ' subway data(pm).csv', header = False, index = False)\n",
    "\n",
    "f_subway.close"
   ]
  }
 ],
 "metadata": {
  "kernelspec": {
   "display_name": "Python 3 (ipykernel)",
   "language": "python",
   "name": "python3"
  },
  "language_info": {
   "codemirror_mode": {
    "name": "ipython",
    "version": 3
   },
   "file_extension": ".py",
   "mimetype": "text/x-python",
   "name": "python",
   "nbconvert_exporter": "python",
   "pygments_lexer": "ipython3",
   "version": "3.7.11"
  }
 },
 "nbformat": 4,
 "nbformat_minor": 5
}
