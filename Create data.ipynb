{
 "cells": [
  {
   "cell_type": "code",
   "execution_count": 39,
   "id": "09c3e37f",
   "metadata": {},
   "outputs": [
    {
     "name": "stdout",
     "output_type": "stream",
     "text": [
      "년도: 2019\n",
      "월: 10\n"
     ]
    },
    {
     "data": {
      "text/plain": [
       "<function TextIOWrapper.close()>"
      ]
     },
     "execution_count": 39,
     "metadata": {},
     "output_type": "execute_result"
    }
   ],
   "source": [
    "import warnings\n",
    "warnings.simplefilter((\"ignore\"))\n",
    "import csv\n",
    "import pandas as pd\n",
    "from pandas import DataFrame\n",
    "\n",
    "# 승하차 승객 데이터 추출\n",
    "# 출근 시간 8~9시, 퇴근 시간 17~18시/18~19시/19~20시/20~21시\n",
    "\n",
    "# 파일 열기\n",
    "file_year = input(\"년도: \")\n",
    "file_name = input(\"월: \")\n",
    "file = \"C:/Users/user/Desktop/CD2/Project/CapstoneDesign2/subway \" + file_year + \"/\" + file_year + file_name + \".csv\"\n",
    "f = open(file, 'r')\n",
    "reader = csv.reader(f)\n",
    "\n",
    "stock_data = []\n",
    "\n",
    "i = 0\n",
    "\n",
    "for row in reader:\n",
    "    stock_data.append(row)\n",
    "\n",
    "for i in range(len(stock_data)):\n",
    "    del stock_data[i][0] # 날짜 삭제\n",
    "    \n",
    "# 필요 없는 시간대 삭제\n",
    "\n",
    "time = 2\n",
    "for j in range(2, 10):\n",
    "    for i in range(len(stock_data)):\n",
    "        del stock_data[i][time]\n",
    "        \n",
    "for j in range(4, 20):\n",
    "    for i in range(len(stock_data)):\n",
    "        del stock_data[i][time + 2]\n",
    "        \n",
    "for j in range(12, len(stock_data[0])):\n",
    "    for i in range(len(stock_data)):\n",
    "        del stock_data[i][time + 10]\n",
    "\n",
    "data_df = DataFrame(stock_data)\n",
    "data_df.to_csv(file_year + file_name + ' data fixed.csv', header = False, index = False)\n",
    "\n",
    "f.close"
   ]
  }
 ],
 "metadata": {
  "kernelspec": {
   "display_name": "Python 3 (ipykernel)",
   "language": "python",
   "name": "python3"
  },
  "language_info": {
   "codemirror_mode": {
    "name": "ipython",
    "version": 3
   },
   "file_extension": ".py",
   "mimetype": "text/x-python",
   "name": "python",
   "nbconvert_exporter": "python",
   "pygments_lexer": "ipython3",
   "version": "3.7.11"
  }
 },
 "nbformat": 4,
 "nbformat_minor": 5
}
